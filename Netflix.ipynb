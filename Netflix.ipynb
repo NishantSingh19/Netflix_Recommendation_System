{
 "cells": [
  {
   "cell_type": "code",
   "execution_count": 1,
   "id": "4dfc5313-c06e-4845-b548-12d043176f7e",
   "metadata": {},
   "outputs": [],
   "source": [
    "import numpy as np\n",
    "import pandas as pd\n",
    "import matplotlib.pyplot as plt\n",
    "import seaborn as sns\n",
    "import warnings\n",
    "warnings.filterwarnings('ignore')"
   ]
  },
  {
   "cell_type": "code",
   "execution_count": 2,
   "id": "30fcbb64-9808-4e62-988b-8fda350f1f50",
   "metadata": {},
   "outputs": [
    {
     "data": {
      "text/html": [
       "<div>\n",
       "<style scoped>\n",
       "    .dataframe tbody tr th:only-of-type {\n",
       "        vertical-align: middle;\n",
       "    }\n",
       "\n",
       "    .dataframe tbody tr th {\n",
       "        vertical-align: top;\n",
       "    }\n",
       "\n",
       "    .dataframe thead th {\n",
       "        text-align: right;\n",
       "    }\n",
       "</style>\n",
       "<table border=\"1\" class=\"dataframe\">\n",
       "  <thead>\n",
       "    <tr style=\"text-align: right;\">\n",
       "      <th></th>\n",
       "      <th>show_id</th>\n",
       "      <th>type</th>\n",
       "      <th>title</th>\n",
       "      <th>director</th>\n",
       "      <th>cast</th>\n",
       "      <th>country</th>\n",
       "      <th>date_added</th>\n",
       "      <th>release_year</th>\n",
       "      <th>rating</th>\n",
       "      <th>duration</th>\n",
       "      <th>listed_in</th>\n",
       "      <th>description</th>\n",
       "    </tr>\n",
       "  </thead>\n",
       "  <tbody>\n",
       "    <tr>\n",
       "      <th>0</th>\n",
       "      <td>s1</td>\n",
       "      <td>Movie</td>\n",
       "      <td>Dick Johnson Is Dead</td>\n",
       "      <td>Kirsten Johnson</td>\n",
       "      <td>NaN</td>\n",
       "      <td>United States</td>\n",
       "      <td>September 25, 2021</td>\n",
       "      <td>2020</td>\n",
       "      <td>PG-13</td>\n",
       "      <td>90 min</td>\n",
       "      <td>Documentaries</td>\n",
       "      <td>As her father nears the end of his life, filmm...</td>\n",
       "    </tr>\n",
       "    <tr>\n",
       "      <th>1</th>\n",
       "      <td>s2</td>\n",
       "      <td>TV Show</td>\n",
       "      <td>Blood &amp; Water</td>\n",
       "      <td>NaN</td>\n",
       "      <td>Ama Qamata, Khosi Ngema, Gail Mabalane, Thaban...</td>\n",
       "      <td>South Africa</td>\n",
       "      <td>September 24, 2021</td>\n",
       "      <td>2021</td>\n",
       "      <td>TV-MA</td>\n",
       "      <td>2 Seasons</td>\n",
       "      <td>International TV Shows, TV Dramas, TV Mysteries</td>\n",
       "      <td>After crossing paths at a party, a Cape Town t...</td>\n",
       "    </tr>\n",
       "    <tr>\n",
       "      <th>2</th>\n",
       "      <td>s3</td>\n",
       "      <td>TV Show</td>\n",
       "      <td>Ganglands</td>\n",
       "      <td>Julien Leclercq</td>\n",
       "      <td>Sami Bouajila, Tracy Gotoas, Samuel Jouy, Nabi...</td>\n",
       "      <td>NaN</td>\n",
       "      <td>September 24, 2021</td>\n",
       "      <td>2021</td>\n",
       "      <td>TV-MA</td>\n",
       "      <td>1 Season</td>\n",
       "      <td>Crime TV Shows, International TV Shows, TV Act...</td>\n",
       "      <td>To protect his family from a powerful drug lor...</td>\n",
       "    </tr>\n",
       "  </tbody>\n",
       "</table>\n",
       "</div>"
      ],
      "text/plain": [
       "  show_id     type                 title         director  \\\n",
       "0      s1    Movie  Dick Johnson Is Dead  Kirsten Johnson   \n",
       "1      s2  TV Show         Blood & Water              NaN   \n",
       "2      s3  TV Show             Ganglands  Julien Leclercq   \n",
       "\n",
       "                                                cast        country  \\\n",
       "0                                                NaN  United States   \n",
       "1  Ama Qamata, Khosi Ngema, Gail Mabalane, Thaban...   South Africa   \n",
       "2  Sami Bouajila, Tracy Gotoas, Samuel Jouy, Nabi...            NaN   \n",
       "\n",
       "           date_added  release_year rating   duration  \\\n",
       "0  September 25, 2021          2020  PG-13     90 min   \n",
       "1  September 24, 2021          2021  TV-MA  2 Seasons   \n",
       "2  September 24, 2021          2021  TV-MA   1 Season   \n",
       "\n",
       "                                           listed_in  \\\n",
       "0                                      Documentaries   \n",
       "1    International TV Shows, TV Dramas, TV Mysteries   \n",
       "2  Crime TV Shows, International TV Shows, TV Act...   \n",
       "\n",
       "                                         description  \n",
       "0  As her father nears the end of his life, filmm...  \n",
       "1  After crossing paths at a party, a Cape Town t...  \n",
       "2  To protect his family from a powerful drug lor...  "
      ]
     },
     "execution_count": 2,
     "metadata": {},
     "output_type": "execute_result"
    }
   ],
   "source": [
    "# Importing data file\n",
    "\n",
    "data_file = pd.read_csv(r\"NetFlix_Movies_and_Shows.csv\")\n",
    "df = pd.DataFrame(data_file)\n",
    "df.head(3)"
   ]
  },
  {
   "cell_type": "code",
   "execution_count": 3,
   "id": "c07ecdf9-c1dc-46b9-b749-86b5943ffad1",
   "metadata": {},
   "outputs": [
    {
     "data": {
      "text/plain": [
       "(8807, 12)"
      ]
     },
     "execution_count": 3,
     "metadata": {},
     "output_type": "execute_result"
    }
   ],
   "source": [
    "# Shape of data (rows * columns)\n",
    "\n",
    "df.shape"
   ]
  },
  {
   "cell_type": "code",
   "execution_count": 4,
   "id": "c5799e00-5858-4c58-bef9-34cd6ce8c8b6",
   "metadata": {},
   "outputs": [
    {
     "name": "stdout",
     "output_type": "stream",
     "text": [
      "<class 'pandas.core.frame.DataFrame'>\n",
      "RangeIndex: 8807 entries, 0 to 8806\n",
      "Data columns (total 12 columns):\n",
      " #   Column        Non-Null Count  Dtype \n",
      "---  ------        --------------  ----- \n",
      " 0   show_id       8807 non-null   object\n",
      " 1   type          8807 non-null   object\n",
      " 2   title         8807 non-null   object\n",
      " 3   director      6173 non-null   object\n",
      " 4   cast          7982 non-null   object\n",
      " 5   country       7976 non-null   object\n",
      " 6   date_added    8797 non-null   object\n",
      " 7   release_year  8807 non-null   int64 \n",
      " 8   rating        8803 non-null   object\n",
      " 9   duration      8804 non-null   object\n",
      " 10  listed_in     8807 non-null   object\n",
      " 11  description   8807 non-null   object\n",
      "dtypes: int64(1), object(11)\n",
      "memory usage: 825.8+ KB\n"
     ]
    }
   ],
   "source": [
    "# Checking data information\n",
    "\n",
    "df.info()"
   ]
  },
  {
   "cell_type": "code",
   "execution_count": 5,
   "id": "80fa6e08-7aa2-406a-a84d-ea92efd595ab",
   "metadata": {},
   "outputs": [
    {
     "data": {
      "text/plain": [
       "show_id            0\n",
       "type               0\n",
       "title              0\n",
       "director        2634\n",
       "cast             825\n",
       "country          831\n",
       "date_added        10\n",
       "release_year       0\n",
       "rating             4\n",
       "duration           3\n",
       "listed_in          0\n",
       "description        0\n",
       "dtype: int64"
      ]
     },
     "execution_count": 5,
     "metadata": {},
     "output_type": "execute_result"
    }
   ],
   "source": [
    "# Finding null values\n",
    "\n",
    "df.isnull().sum()"
   ]
  },
  {
   "cell_type": "code",
   "execution_count": 6,
   "id": "9ba6714b-4d55-4034-9c9b-c73759251631",
   "metadata": {},
   "outputs": [
    {
     "data": {
      "text/html": [
       "<div>\n",
       "<style scoped>\n",
       "    .dataframe tbody tr th:only-of-type {\n",
       "        vertical-align: middle;\n",
       "    }\n",
       "\n",
       "    .dataframe tbody tr th {\n",
       "        vertical-align: top;\n",
       "    }\n",
       "\n",
       "    .dataframe thead th {\n",
       "        text-align: right;\n",
       "    }\n",
       "</style>\n",
       "<table border=\"1\" class=\"dataframe\">\n",
       "  <thead>\n",
       "    <tr style=\"text-align: right;\">\n",
       "      <th></th>\n",
       "      <th>show_id</th>\n",
       "      <th>type</th>\n",
       "      <th>title</th>\n",
       "      <th>director</th>\n",
       "      <th>cast</th>\n",
       "      <th>country</th>\n",
       "      <th>date_added</th>\n",
       "      <th>release_year</th>\n",
       "      <th>rating</th>\n",
       "      <th>duration</th>\n",
       "      <th>listed_in</th>\n",
       "      <th>description</th>\n",
       "    </tr>\n",
       "  </thead>\n",
       "  <tbody>\n",
       "    <tr>\n",
       "      <th>0</th>\n",
       "      <td>s1</td>\n",
       "      <td>Movie</td>\n",
       "      <td>Dick Johnson Is Dead</td>\n",
       "      <td>Kirsten Johnson</td>\n",
       "      <td>NaN</td>\n",
       "      <td>United States</td>\n",
       "      <td>September 25, 2021</td>\n",
       "      <td>2020</td>\n",
       "      <td>PG-13</td>\n",
       "      <td>90 min</td>\n",
       "      <td>Documentaries</td>\n",
       "      <td>As her father nears the end of his life, filmm...</td>\n",
       "    </tr>\n",
       "    <tr>\n",
       "      <th>1</th>\n",
       "      <td>s2</td>\n",
       "      <td>TV Show</td>\n",
       "      <td>Blood &amp; Water</td>\n",
       "      <td>NaN</td>\n",
       "      <td>Ama Qamata, Khosi Ngema, Gail Mabalane, Thaban...</td>\n",
       "      <td>South Africa</td>\n",
       "      <td>September 24, 2021</td>\n",
       "      <td>2021</td>\n",
       "      <td>TV-MA</td>\n",
       "      <td>2 Seasons</td>\n",
       "      <td>International TV Shows, TV Dramas, TV Mysteries</td>\n",
       "      <td>After crossing paths at a party, a Cape Town t...</td>\n",
       "    </tr>\n",
       "    <tr>\n",
       "      <th>2</th>\n",
       "      <td>s3</td>\n",
       "      <td>TV Show</td>\n",
       "      <td>Ganglands</td>\n",
       "      <td>Julien Leclercq</td>\n",
       "      <td>Sami Bouajila, Tracy Gotoas, Samuel Jouy, Nabi...</td>\n",
       "      <td>NaN</td>\n",
       "      <td>September 24, 2021</td>\n",
       "      <td>2021</td>\n",
       "      <td>TV-MA</td>\n",
       "      <td>1 Season</td>\n",
       "      <td>Crime TV Shows, International TV Shows, TV Act...</td>\n",
       "      <td>To protect his family from a powerful drug lor...</td>\n",
       "    </tr>\n",
       "  </tbody>\n",
       "</table>\n",
       "</div>"
      ],
      "text/plain": [
       "  show_id     type                 title         director  \\\n",
       "0      s1    Movie  Dick Johnson Is Dead  Kirsten Johnson   \n",
       "1      s2  TV Show         Blood & Water              NaN   \n",
       "2      s3  TV Show             Ganglands  Julien Leclercq   \n",
       "\n",
       "                                                cast        country  \\\n",
       "0                                                NaN  United States   \n",
       "1  Ama Qamata, Khosi Ngema, Gail Mabalane, Thaban...   South Africa   \n",
       "2  Sami Bouajila, Tracy Gotoas, Samuel Jouy, Nabi...            NaN   \n",
       "\n",
       "           date_added  release_year rating   duration  \\\n",
       "0  September 25, 2021          2020  PG-13     90 min   \n",
       "1  September 24, 2021          2021  TV-MA  2 Seasons   \n",
       "2  September 24, 2021          2021  TV-MA   1 Season   \n",
       "\n",
       "                                           listed_in  \\\n",
       "0                                      Documentaries   \n",
       "1    International TV Shows, TV Dramas, TV Mysteries   \n",
       "2  Crime TV Shows, International TV Shows, TV Act...   \n",
       "\n",
       "                                         description  \n",
       "0  As her father nears the end of his life, filmm...  \n",
       "1  After crossing paths at a party, a Cape Town t...  \n",
       "2  To protect his family from a powerful drug lor...  "
      ]
     },
     "execution_count": 6,
     "metadata": {},
     "output_type": "execute_result"
    }
   ],
   "source": [
    "# Checking data\n",
    "\n",
    "df.head(3)"
   ]
  },
  {
   "cell_type": "code",
   "execution_count": 7,
   "id": "d7488723-4406-4e15-832d-66ecd5574dd6",
   "metadata": {},
   "outputs": [],
   "source": [
    "# Dropping values which are not need\n",
    "\n",
    "df.drop(columns='show_id', axis=1, inplace=True)\n",
    "df.drop(columns='description', axis=1, inplace=True)\n",
    "df.drop(columns='director', axis=1, inplace=True)\n",
    "df.drop(columns='cast', axis=1, inplace=True)"
   ]
  },
  {
   "cell_type": "code",
   "execution_count": 8,
   "id": "69639401-a97d-4083-9c4d-936fbea579ca",
   "metadata": {},
   "outputs": [
    {
     "data": {
      "text/html": [
       "<div>\n",
       "<style scoped>\n",
       "    .dataframe tbody tr th:only-of-type {\n",
       "        vertical-align: middle;\n",
       "    }\n",
       "\n",
       "    .dataframe tbody tr th {\n",
       "        vertical-align: top;\n",
       "    }\n",
       "\n",
       "    .dataframe thead th {\n",
       "        text-align: right;\n",
       "    }\n",
       "</style>\n",
       "<table border=\"1\" class=\"dataframe\">\n",
       "  <thead>\n",
       "    <tr style=\"text-align: right;\">\n",
       "      <th></th>\n",
       "      <th>type</th>\n",
       "      <th>title</th>\n",
       "      <th>country</th>\n",
       "      <th>date_added</th>\n",
       "      <th>release_year</th>\n",
       "      <th>rating</th>\n",
       "      <th>duration</th>\n",
       "      <th>listed_in</th>\n",
       "    </tr>\n",
       "  </thead>\n",
       "  <tbody>\n",
       "    <tr>\n",
       "      <th>0</th>\n",
       "      <td>Movie</td>\n",
       "      <td>Dick Johnson Is Dead</td>\n",
       "      <td>United States</td>\n",
       "      <td>September 25, 2021</td>\n",
       "      <td>2020</td>\n",
       "      <td>PG-13</td>\n",
       "      <td>90 min</td>\n",
       "      <td>Documentaries</td>\n",
       "    </tr>\n",
       "    <tr>\n",
       "      <th>1</th>\n",
       "      <td>TV Show</td>\n",
       "      <td>Blood &amp; Water</td>\n",
       "      <td>South Africa</td>\n",
       "      <td>September 24, 2021</td>\n",
       "      <td>2021</td>\n",
       "      <td>TV-MA</td>\n",
       "      <td>2 Seasons</td>\n",
       "      <td>International TV Shows, TV Dramas, TV Mysteries</td>\n",
       "    </tr>\n",
       "    <tr>\n",
       "      <th>2</th>\n",
       "      <td>TV Show</td>\n",
       "      <td>Ganglands</td>\n",
       "      <td>NaN</td>\n",
       "      <td>September 24, 2021</td>\n",
       "      <td>2021</td>\n",
       "      <td>TV-MA</td>\n",
       "      <td>1 Season</td>\n",
       "      <td>Crime TV Shows, International TV Shows, TV Act...</td>\n",
       "    </tr>\n",
       "    <tr>\n",
       "      <th>3</th>\n",
       "      <td>TV Show</td>\n",
       "      <td>Jailbirds New Orleans</td>\n",
       "      <td>NaN</td>\n",
       "      <td>September 24, 2021</td>\n",
       "      <td>2021</td>\n",
       "      <td>TV-MA</td>\n",
       "      <td>1 Season</td>\n",
       "      <td>Docuseries, Reality TV</td>\n",
       "    </tr>\n",
       "    <tr>\n",
       "      <th>4</th>\n",
       "      <td>TV Show</td>\n",
       "      <td>Kota Factory</td>\n",
       "      <td>India</td>\n",
       "      <td>September 24, 2021</td>\n",
       "      <td>2021</td>\n",
       "      <td>TV-MA</td>\n",
       "      <td>2 Seasons</td>\n",
       "      <td>International TV Shows, Romantic TV Shows, TV ...</td>\n",
       "    </tr>\n",
       "  </tbody>\n",
       "</table>\n",
       "</div>"
      ],
      "text/plain": [
       "      type                  title        country          date_added  \\\n",
       "0    Movie   Dick Johnson Is Dead  United States  September 25, 2021   \n",
       "1  TV Show          Blood & Water   South Africa  September 24, 2021   \n",
       "2  TV Show              Ganglands            NaN  September 24, 2021   \n",
       "3  TV Show  Jailbirds New Orleans            NaN  September 24, 2021   \n",
       "4  TV Show           Kota Factory          India  September 24, 2021   \n",
       "\n",
       "   release_year rating   duration  \\\n",
       "0          2020  PG-13     90 min   \n",
       "1          2021  TV-MA  2 Seasons   \n",
       "2          2021  TV-MA   1 Season   \n",
       "3          2021  TV-MA   1 Season   \n",
       "4          2021  TV-MA  2 Seasons   \n",
       "\n",
       "                                           listed_in  \n",
       "0                                      Documentaries  \n",
       "1    International TV Shows, TV Dramas, TV Mysteries  \n",
       "2  Crime TV Shows, International TV Shows, TV Act...  \n",
       "3                             Docuseries, Reality TV  \n",
       "4  International TV Shows, Romantic TV Shows, TV ...  "
      ]
     },
     "execution_count": 8,
     "metadata": {},
     "output_type": "execute_result"
    }
   ],
   "source": [
    "# Checking data\n",
    "\n",
    "df.head()"
   ]
  },
  {
   "cell_type": "code",
   "execution_count": 9,
   "id": "83541e13-d4e8-4335-9443-f188049be74e",
   "metadata": {},
   "outputs": [
    {
     "data": {
      "text/plain": [
       "type              0\n",
       "title             0\n",
       "country         831\n",
       "date_added       10\n",
       "release_year      0\n",
       "rating            4\n",
       "duration          3\n",
       "listed_in         0\n",
       "dtype: int64"
      ]
     },
     "execution_count": 9,
     "metadata": {},
     "output_type": "execute_result"
    }
   ],
   "source": [
    "# Checking null value\n",
    "\n",
    "df.isna().sum()"
   ]
  },
  {
   "cell_type": "code",
   "execution_count": 10,
   "id": "e6b881d6-7a4c-45df-8412-ed7dec241620",
   "metadata": {},
   "outputs": [],
   "source": [
    "# Filling null values with 'unknown'\n",
    "\n",
    "df['country'].fillna(\"unknown\", inplace=True)"
   ]
  },
  {
   "cell_type": "code",
   "execution_count": 11,
   "id": "66104b21-c8b4-43fc-b9d2-49dc80bea01b",
   "metadata": {},
   "outputs": [
    {
     "data": {
      "text/html": [
       "<div>\n",
       "<style scoped>\n",
       "    .dataframe tbody tr th:only-of-type {\n",
       "        vertical-align: middle;\n",
       "    }\n",
       "\n",
       "    .dataframe tbody tr th {\n",
       "        vertical-align: top;\n",
       "    }\n",
       "\n",
       "    .dataframe thead th {\n",
       "        text-align: right;\n",
       "    }\n",
       "</style>\n",
       "<table border=\"1\" class=\"dataframe\">\n",
       "  <thead>\n",
       "    <tr style=\"text-align: right;\">\n",
       "      <th></th>\n",
       "      <th>type</th>\n",
       "      <th>title</th>\n",
       "      <th>country</th>\n",
       "      <th>date_added</th>\n",
       "      <th>release_year</th>\n",
       "      <th>rating</th>\n",
       "      <th>duration</th>\n",
       "      <th>listed_in</th>\n",
       "    </tr>\n",
       "  </thead>\n",
       "  <tbody>\n",
       "    <tr>\n",
       "      <th>0</th>\n",
       "      <td>Movie</td>\n",
       "      <td>Dick Johnson Is Dead</td>\n",
       "      <td>United States</td>\n",
       "      <td>September 25, 2021</td>\n",
       "      <td>2020</td>\n",
       "      <td>PG-13</td>\n",
       "      <td>90 min</td>\n",
       "      <td>Documentaries</td>\n",
       "    </tr>\n",
       "    <tr>\n",
       "      <th>1</th>\n",
       "      <td>TV Show</td>\n",
       "      <td>Blood &amp; Water</td>\n",
       "      <td>South Africa</td>\n",
       "      <td>September 24, 2021</td>\n",
       "      <td>2021</td>\n",
       "      <td>TV-MA</td>\n",
       "      <td>2 Seasons</td>\n",
       "      <td>International TV Shows, TV Dramas, TV Mysteries</td>\n",
       "    </tr>\n",
       "    <tr>\n",
       "      <th>2</th>\n",
       "      <td>TV Show</td>\n",
       "      <td>Ganglands</td>\n",
       "      <td>unknown</td>\n",
       "      <td>September 24, 2021</td>\n",
       "      <td>2021</td>\n",
       "      <td>TV-MA</td>\n",
       "      <td>1 Season</td>\n",
       "      <td>Crime TV Shows, International TV Shows, TV Act...</td>\n",
       "    </tr>\n",
       "    <tr>\n",
       "      <th>3</th>\n",
       "      <td>TV Show</td>\n",
       "      <td>Jailbirds New Orleans</td>\n",
       "      <td>unknown</td>\n",
       "      <td>September 24, 2021</td>\n",
       "      <td>2021</td>\n",
       "      <td>TV-MA</td>\n",
       "      <td>1 Season</td>\n",
       "      <td>Docuseries, Reality TV</td>\n",
       "    </tr>\n",
       "    <tr>\n",
       "      <th>4</th>\n",
       "      <td>TV Show</td>\n",
       "      <td>Kota Factory</td>\n",
       "      <td>India</td>\n",
       "      <td>September 24, 2021</td>\n",
       "      <td>2021</td>\n",
       "      <td>TV-MA</td>\n",
       "      <td>2 Seasons</td>\n",
       "      <td>International TV Shows, Romantic TV Shows, TV ...</td>\n",
       "    </tr>\n",
       "    <tr>\n",
       "      <th>5</th>\n",
       "      <td>TV Show</td>\n",
       "      <td>Midnight Mass</td>\n",
       "      <td>unknown</td>\n",
       "      <td>September 24, 2021</td>\n",
       "      <td>2021</td>\n",
       "      <td>TV-MA</td>\n",
       "      <td>1 Season</td>\n",
       "      <td>TV Dramas, TV Horror, TV Mysteries</td>\n",
       "    </tr>\n",
       "    <tr>\n",
       "      <th>6</th>\n",
       "      <td>Movie</td>\n",
       "      <td>My Little Pony: A New Generation</td>\n",
       "      <td>unknown</td>\n",
       "      <td>September 24, 2021</td>\n",
       "      <td>2021</td>\n",
       "      <td>PG</td>\n",
       "      <td>91 min</td>\n",
       "      <td>Children &amp; Family Movies</td>\n",
       "    </tr>\n",
       "    <tr>\n",
       "      <th>7</th>\n",
       "      <td>Movie</td>\n",
       "      <td>Sankofa</td>\n",
       "      <td>United States, Ghana, Burkina Faso, United Kin...</td>\n",
       "      <td>September 24, 2021</td>\n",
       "      <td>1993</td>\n",
       "      <td>TV-MA</td>\n",
       "      <td>125 min</td>\n",
       "      <td>Dramas, Independent Movies, International Movies</td>\n",
       "    </tr>\n",
       "    <tr>\n",
       "      <th>8</th>\n",
       "      <td>TV Show</td>\n",
       "      <td>The Great British Baking Show</td>\n",
       "      <td>United Kingdom</td>\n",
       "      <td>September 24, 2021</td>\n",
       "      <td>2021</td>\n",
       "      <td>TV-14</td>\n",
       "      <td>9 Seasons</td>\n",
       "      <td>British TV Shows, Reality TV</td>\n",
       "    </tr>\n",
       "    <tr>\n",
       "      <th>9</th>\n",
       "      <td>Movie</td>\n",
       "      <td>The Starling</td>\n",
       "      <td>United States</td>\n",
       "      <td>September 24, 2021</td>\n",
       "      <td>2021</td>\n",
       "      <td>PG-13</td>\n",
       "      <td>104 min</td>\n",
       "      <td>Comedies, Dramas</td>\n",
       "    </tr>\n",
       "  </tbody>\n",
       "</table>\n",
       "</div>"
      ],
      "text/plain": [
       "      type                             title  \\\n",
       "0    Movie              Dick Johnson Is Dead   \n",
       "1  TV Show                     Blood & Water   \n",
       "2  TV Show                         Ganglands   \n",
       "3  TV Show             Jailbirds New Orleans   \n",
       "4  TV Show                      Kota Factory   \n",
       "5  TV Show                     Midnight Mass   \n",
       "6    Movie  My Little Pony: A New Generation   \n",
       "7    Movie                           Sankofa   \n",
       "8  TV Show     The Great British Baking Show   \n",
       "9    Movie                      The Starling   \n",
       "\n",
       "                                             country          date_added  \\\n",
       "0                                      United States  September 25, 2021   \n",
       "1                                       South Africa  September 24, 2021   \n",
       "2                                            unknown  September 24, 2021   \n",
       "3                                            unknown  September 24, 2021   \n",
       "4                                              India  September 24, 2021   \n",
       "5                                            unknown  September 24, 2021   \n",
       "6                                            unknown  September 24, 2021   \n",
       "7  United States, Ghana, Burkina Faso, United Kin...  September 24, 2021   \n",
       "8                                     United Kingdom  September 24, 2021   \n",
       "9                                      United States  September 24, 2021   \n",
       "\n",
       "   release_year rating   duration  \\\n",
       "0          2020  PG-13     90 min   \n",
       "1          2021  TV-MA  2 Seasons   \n",
       "2          2021  TV-MA   1 Season   \n",
       "3          2021  TV-MA   1 Season   \n",
       "4          2021  TV-MA  2 Seasons   \n",
       "5          2021  TV-MA   1 Season   \n",
       "6          2021     PG     91 min   \n",
       "7          1993  TV-MA    125 min   \n",
       "8          2021  TV-14  9 Seasons   \n",
       "9          2021  PG-13    104 min   \n",
       "\n",
       "                                           listed_in  \n",
       "0                                      Documentaries  \n",
       "1    International TV Shows, TV Dramas, TV Mysteries  \n",
       "2  Crime TV Shows, International TV Shows, TV Act...  \n",
       "3                             Docuseries, Reality TV  \n",
       "4  International TV Shows, Romantic TV Shows, TV ...  \n",
       "5                 TV Dramas, TV Horror, TV Mysteries  \n",
       "6                           Children & Family Movies  \n",
       "7   Dramas, Independent Movies, International Movies  \n",
       "8                       British TV Shows, Reality TV  \n",
       "9                                   Comedies, Dramas  "
      ]
     },
     "execution_count": 11,
     "metadata": {},
     "output_type": "execute_result"
    }
   ],
   "source": [
    "# Checking data\n",
    "\n",
    "df.head(10)"
   ]
  },
  {
   "cell_type": "code",
   "execution_count": 12,
   "id": "b79e6b25-088a-4039-8e76-ccec09ce6833",
   "metadata": {},
   "outputs": [
    {
     "data": {
      "text/plain": [
       "array(['PG-13', 'TV-MA', 'PG', 'TV-14', 'TV-PG', 'TV-Y', 'TV-Y7', 'R',\n",
       "       'TV-G', 'G', 'NC-17', '74 min', '84 min', '66 min', 'NR', nan,\n",
       "       'TV-Y7-FV', 'UR'], dtype=object)"
      ]
     },
     "execution_count": 12,
     "metadata": {},
     "output_type": "execute_result"
    }
   ],
   "source": [
    "# Checking 'rating' columns value\n",
    "\n",
    "df['rating'].unique()"
   ]
  },
  {
   "cell_type": "code",
   "execution_count": 13,
   "id": "01589104-519c-452f-bf68-45e7efe80d30",
   "metadata": {},
   "outputs": [
    {
     "data": {
      "text/html": [
       "<div>\n",
       "<style scoped>\n",
       "    .dataframe tbody tr th:only-of-type {\n",
       "        vertical-align: middle;\n",
       "    }\n",
       "\n",
       "    .dataframe tbody tr th {\n",
       "        vertical-align: top;\n",
       "    }\n",
       "\n",
       "    .dataframe thead th {\n",
       "        text-align: right;\n",
       "    }\n",
       "</style>\n",
       "<table border=\"1\" class=\"dataframe\">\n",
       "  <thead>\n",
       "    <tr style=\"text-align: right;\">\n",
       "      <th></th>\n",
       "      <th>type</th>\n",
       "      <th>title</th>\n",
       "      <th>country</th>\n",
       "      <th>date_added</th>\n",
       "      <th>release_year</th>\n",
       "      <th>rating</th>\n",
       "      <th>duration</th>\n",
       "      <th>listed_in</th>\n",
       "    </tr>\n",
       "  </thead>\n",
       "  <tbody>\n",
       "    <tr>\n",
       "      <th>5541</th>\n",
       "      <td>Movie</td>\n",
       "      <td>Louis C.K. 2017</td>\n",
       "      <td>United States</td>\n",
       "      <td>April 4, 2017</td>\n",
       "      <td>2017</td>\n",
       "      <td>74 min</td>\n",
       "      <td>NaN</td>\n",
       "      <td>Movies</td>\n",
       "    </tr>\n",
       "    <tr>\n",
       "      <th>5794</th>\n",
       "      <td>Movie</td>\n",
       "      <td>Louis C.K.: Hilarious</td>\n",
       "      <td>United States</td>\n",
       "      <td>September 16, 2016</td>\n",
       "      <td>2010</td>\n",
       "      <td>84 min</td>\n",
       "      <td>NaN</td>\n",
       "      <td>Movies</td>\n",
       "    </tr>\n",
       "    <tr>\n",
       "      <th>5813</th>\n",
       "      <td>Movie</td>\n",
       "      <td>Louis C.K.: Live at the Comedy Store</td>\n",
       "      <td>United States</td>\n",
       "      <td>August 15, 2016</td>\n",
       "      <td>2015</td>\n",
       "      <td>66 min</td>\n",
       "      <td>NaN</td>\n",
       "      <td>Movies</td>\n",
       "    </tr>\n",
       "  </tbody>\n",
       "</table>\n",
       "</div>"
      ],
      "text/plain": [
       "       type                                 title        country  \\\n",
       "5541  Movie                       Louis C.K. 2017  United States   \n",
       "5794  Movie                 Louis C.K.: Hilarious  United States   \n",
       "5813  Movie  Louis C.K.: Live at the Comedy Store  United States   \n",
       "\n",
       "              date_added  release_year  rating duration listed_in  \n",
       "5541       April 4, 2017          2017  74 min      NaN    Movies  \n",
       "5794  September 16, 2016          2010  84 min      NaN    Movies  \n",
       "5813     August 15, 2016          2015  66 min      NaN    Movies  "
      ]
     },
     "execution_count": 13,
     "metadata": {},
     "output_type": "execute_result"
    }
   ],
   "source": [
    "# Checking null values in 'duration' column\n",
    "\n",
    "df[df['duration'].isnull()]"
   ]
  },
  {
   "cell_type": "code",
   "execution_count": 14,
   "id": "5e4ecdfa-0394-4d72-9b37-0619f43c8f56",
   "metadata": {},
   "outputs": [],
   "source": [
    "# Arranging data\n",
    "# 'duration' are given in 'rating' columns so I adjust it from 'rating' to 'duration' colunns \n",
    "\n",
    "df['duration'].fillna(df['rating'],inplace=True)"
   ]
  },
  {
   "cell_type": "code",
   "execution_count": 15,
   "id": "4a59ebf9-c9cf-4363-9a5c-9ece6b5bb812",
   "metadata": {},
   "outputs": [
    {
     "data": {
      "text/plain": [
       "type             0\n",
       "title            0\n",
       "country          0\n",
       "date_added      10\n",
       "release_year     0\n",
       "rating           4\n",
       "duration         0\n",
       "listed_in        0\n",
       "dtype: int64"
      ]
     },
     "execution_count": 15,
     "metadata": {},
     "output_type": "execute_result"
    }
   ],
   "source": [
    "# Chceking null values again\n",
    "\n",
    "df.isnull().sum()"
   ]
  },
  {
   "cell_type": "code",
   "execution_count": 16,
   "id": "c1836868-99cb-4537-b679-6dbec99d13ba",
   "metadata": {},
   "outputs": [],
   "source": [
    "# Rename column form 'listed_in' to 'Genre'\n",
    "\n",
    "df.rename(columns={\"listed_in\": \"Genre\"}, inplace=True)"
   ]
  },
  {
   "cell_type": "code",
   "execution_count": 17,
   "id": "a1a17ef3-fce5-4df1-9cdf-4a2b75ab89b0",
   "metadata": {},
   "outputs": [],
   "source": [
    "# Separating the 'Genre' by ', ' and make the new rows of each 'Genre'\n",
    "\n",
    "df = df.assign(Genre=df['Genre'].str.split(\", \")).explode('Genre').reset_index(drop=True)"
   ]
  },
  {
   "cell_type": "code",
   "execution_count": 18,
   "id": "2a5e5d85-a32d-4853-83e8-333aee437731",
   "metadata": {},
   "outputs": [],
   "source": [
    "# Separating 'country' values also\n",
    "\n",
    "df['country'] = df['country'].str.split(', ')\n",
    "df = df.explode('country').reset_index(drop=True)"
   ]
  },
  {
   "cell_type": "code",
   "execution_count": 19,
   "id": "8dade817-c8b1-4181-ab37-70b0b5084698",
   "metadata": {},
   "outputs": [
    {
     "data": {
      "text/plain": [
       "(23754, 8)"
      ]
     },
     "execution_count": 19,
     "metadata": {},
     "output_type": "execute_result"
    }
   ],
   "source": [
    "# Checking shape of data\n",
    "\n",
    "df.shape"
   ]
  },
  {
   "cell_type": "code",
   "execution_count": 20,
   "id": "dd348616-7276-4ad4-8b7c-1a5f96e099c4",
   "metadata": {},
   "outputs": [],
   "source": [
    "# Dropping columns\n",
    "\n",
    "df = df.dropna(subset=['rating'])\n",
    "df = df.dropna(subset=['date_added'])"
   ]
  },
  {
   "cell_type": "code",
   "execution_count": 21,
   "id": "6ada780b-1f4f-4c92-9f00-2d39ebc1f53d",
   "metadata": {},
   "outputs": [
    {
     "data": {
      "text/html": [
       "<div>\n",
       "<style scoped>\n",
       "    .dataframe tbody tr th:only-of-type {\n",
       "        vertical-align: middle;\n",
       "    }\n",
       "\n",
       "    .dataframe tbody tr th {\n",
       "        vertical-align: top;\n",
       "    }\n",
       "\n",
       "    .dataframe thead th {\n",
       "        text-align: right;\n",
       "    }\n",
       "</style>\n",
       "<table border=\"1\" class=\"dataframe\">\n",
       "  <thead>\n",
       "    <tr style=\"text-align: right;\">\n",
       "      <th></th>\n",
       "      <th>type</th>\n",
       "      <th>title</th>\n",
       "      <th>country</th>\n",
       "      <th>date_added</th>\n",
       "      <th>release_year</th>\n",
       "      <th>rating</th>\n",
       "      <th>duration</th>\n",
       "      <th>Genre</th>\n",
       "    </tr>\n",
       "  </thead>\n",
       "  <tbody>\n",
       "    <tr>\n",
       "      <th>0</th>\n",
       "      <td>Movie</td>\n",
       "      <td>Dick Johnson Is Dead</td>\n",
       "      <td>United States</td>\n",
       "      <td>September 25, 2021</td>\n",
       "      <td>2020</td>\n",
       "      <td>PG-13</td>\n",
       "      <td>90 min</td>\n",
       "      <td>Documentaries</td>\n",
       "    </tr>\n",
       "    <tr>\n",
       "      <th>1</th>\n",
       "      <td>TV Show</td>\n",
       "      <td>Blood &amp; Water</td>\n",
       "      <td>South Africa</td>\n",
       "      <td>September 24, 2021</td>\n",
       "      <td>2021</td>\n",
       "      <td>TV-MA</td>\n",
       "      <td>2 Seasons</td>\n",
       "      <td>International TV Shows</td>\n",
       "    </tr>\n",
       "    <tr>\n",
       "      <th>2</th>\n",
       "      <td>TV Show</td>\n",
       "      <td>Blood &amp; Water</td>\n",
       "      <td>South Africa</td>\n",
       "      <td>September 24, 2021</td>\n",
       "      <td>2021</td>\n",
       "      <td>TV-MA</td>\n",
       "      <td>2 Seasons</td>\n",
       "      <td>TV Dramas</td>\n",
       "    </tr>\n",
       "  </tbody>\n",
       "</table>\n",
       "</div>"
      ],
      "text/plain": [
       "      type                 title        country          date_added  \\\n",
       "0    Movie  Dick Johnson Is Dead  United States  September 25, 2021   \n",
       "1  TV Show         Blood & Water   South Africa  September 24, 2021   \n",
       "2  TV Show         Blood & Water   South Africa  September 24, 2021   \n",
       "\n",
       "   release_year rating   duration                   Genre  \n",
       "0          2020  PG-13     90 min           Documentaries  \n",
       "1          2021  TV-MA  2 Seasons  International TV Shows  \n",
       "2          2021  TV-MA  2 Seasons               TV Dramas  "
      ]
     },
     "execution_count": 21,
     "metadata": {},
     "output_type": "execute_result"
    }
   ],
   "source": [
    "# Checking data\n",
    "\n",
    "df.head(3)"
   ]
  },
  {
   "cell_type": "code",
   "execution_count": 22,
   "id": "954a8eb2-03ba-49ce-9ac5-efee46c35e8c",
   "metadata": {},
   "outputs": [],
   "source": [
    "# Adding new columns to dataset\n",
    "\n",
    "df[\"Minutes\"] = df[\"duration\"].str.extract(r'(\\d+)\\s*min', expand=False)\n",
    "df[\"Seasons\"] = df[\"duration\"].str.extract(r'(\\d+)\\s*Season', expand=False)"
   ]
  },
  {
   "cell_type": "code",
   "execution_count": 23,
   "id": "01efbb28-4c6d-4091-9b18-2a4dbdad45e8",
   "metadata": {},
   "outputs": [
    {
     "name": "stdout",
     "output_type": "stream",
     "text": [
      "<class 'pandas.core.frame.DataFrame'>\n",
      "Index: 23728 entries, 0 to 23753\n",
      "Data columns (total 10 columns):\n",
      " #   Column        Non-Null Count  Dtype \n",
      "---  ------        --------------  ----- \n",
      " 0   type          23728 non-null  object\n",
      " 1   title         23728 non-null  object\n",
      " 2   country       23728 non-null  object\n",
      " 3   date_added    23728 non-null  object\n",
      " 4   release_year  23728 non-null  int64 \n",
      " 5   rating        23728 non-null  object\n",
      " 6   duration      23728 non-null  object\n",
      " 7   Genre         23728 non-null  object\n",
      " 8   Minutes       16871 non-null  object\n",
      " 9   Seasons       6857 non-null   object\n",
      "dtypes: int64(1), object(9)\n",
      "memory usage: 2.0+ MB\n"
     ]
    }
   ],
   "source": [
    "# Checking data information\n",
    "\n",
    "df.info()"
   ]
  },
  {
   "cell_type": "code",
   "execution_count": 24,
   "id": "346db9db-c250-4633-8ee6-23a1fa17d96b",
   "metadata": {},
   "outputs": [
    {
     "data": {
      "text/html": [
       "<div>\n",
       "<style scoped>\n",
       "    .dataframe tbody tr th:only-of-type {\n",
       "        vertical-align: middle;\n",
       "    }\n",
       "\n",
       "    .dataframe tbody tr th {\n",
       "        vertical-align: top;\n",
       "    }\n",
       "\n",
       "    .dataframe thead th {\n",
       "        text-align: right;\n",
       "    }\n",
       "</style>\n",
       "<table border=\"1\" class=\"dataframe\">\n",
       "  <thead>\n",
       "    <tr style=\"text-align: right;\">\n",
       "      <th></th>\n",
       "      <th>type</th>\n",
       "      <th>title</th>\n",
       "      <th>country</th>\n",
       "      <th>date_added</th>\n",
       "      <th>release_year</th>\n",
       "      <th>rating</th>\n",
       "      <th>duration</th>\n",
       "      <th>Genre</th>\n",
       "      <th>Minutes</th>\n",
       "      <th>Seasons</th>\n",
       "    </tr>\n",
       "  </thead>\n",
       "  <tbody>\n",
       "    <tr>\n",
       "      <th>0</th>\n",
       "      <td>Movie</td>\n",
       "      <td>Dick Johnson Is Dead</td>\n",
       "      <td>United States</td>\n",
       "      <td>September 25, 2021</td>\n",
       "      <td>2020</td>\n",
       "      <td>PG-13</td>\n",
       "      <td>90 min</td>\n",
       "      <td>Documentaries</td>\n",
       "      <td>90</td>\n",
       "      <td>NaN</td>\n",
       "    </tr>\n",
       "    <tr>\n",
       "      <th>1</th>\n",
       "      <td>TV Show</td>\n",
       "      <td>Blood &amp; Water</td>\n",
       "      <td>South Africa</td>\n",
       "      <td>September 24, 2021</td>\n",
       "      <td>2021</td>\n",
       "      <td>TV-MA</td>\n",
       "      <td>2 Seasons</td>\n",
       "      <td>International TV Shows</td>\n",
       "      <td>NaN</td>\n",
       "      <td>2</td>\n",
       "    </tr>\n",
       "    <tr>\n",
       "      <th>2</th>\n",
       "      <td>TV Show</td>\n",
       "      <td>Blood &amp; Water</td>\n",
       "      <td>South Africa</td>\n",
       "      <td>September 24, 2021</td>\n",
       "      <td>2021</td>\n",
       "      <td>TV-MA</td>\n",
       "      <td>2 Seasons</td>\n",
       "      <td>TV Dramas</td>\n",
       "      <td>NaN</td>\n",
       "      <td>2</td>\n",
       "    </tr>\n",
       "    <tr>\n",
       "      <th>3</th>\n",
       "      <td>TV Show</td>\n",
       "      <td>Blood &amp; Water</td>\n",
       "      <td>South Africa</td>\n",
       "      <td>September 24, 2021</td>\n",
       "      <td>2021</td>\n",
       "      <td>TV-MA</td>\n",
       "      <td>2 Seasons</td>\n",
       "      <td>TV Mysteries</td>\n",
       "      <td>NaN</td>\n",
       "      <td>2</td>\n",
       "    </tr>\n",
       "    <tr>\n",
       "      <th>4</th>\n",
       "      <td>TV Show</td>\n",
       "      <td>Ganglands</td>\n",
       "      <td>unknown</td>\n",
       "      <td>September 24, 2021</td>\n",
       "      <td>2021</td>\n",
       "      <td>TV-MA</td>\n",
       "      <td>1 Season</td>\n",
       "      <td>Crime TV Shows</td>\n",
       "      <td>NaN</td>\n",
       "      <td>1</td>\n",
       "    </tr>\n",
       "  </tbody>\n",
       "</table>\n",
       "</div>"
      ],
      "text/plain": [
       "      type                 title        country          date_added  \\\n",
       "0    Movie  Dick Johnson Is Dead  United States  September 25, 2021   \n",
       "1  TV Show         Blood & Water   South Africa  September 24, 2021   \n",
       "2  TV Show         Blood & Water   South Africa  September 24, 2021   \n",
       "3  TV Show         Blood & Water   South Africa  September 24, 2021   \n",
       "4  TV Show             Ganglands        unknown  September 24, 2021   \n",
       "\n",
       "   release_year rating   duration                   Genre Minutes Seasons  \n",
       "0          2020  PG-13     90 min           Documentaries      90     NaN  \n",
       "1          2021  TV-MA  2 Seasons  International TV Shows     NaN       2  \n",
       "2          2021  TV-MA  2 Seasons               TV Dramas     NaN       2  \n",
       "3          2021  TV-MA  2 Seasons            TV Mysteries     NaN       2  \n",
       "4          2021  TV-MA   1 Season          Crime TV Shows     NaN       1  "
      ]
     },
     "execution_count": 24,
     "metadata": {},
     "output_type": "execute_result"
    }
   ],
   "source": [
    "# Checking data\n",
    "\n",
    "df.head()"
   ]
  },
  {
   "cell_type": "code",
   "execution_count": 25,
   "id": "a7b21307-ef5b-448c-ab91-476a461f7cca",
   "metadata": {},
   "outputs": [],
   "source": [
    "# Filling null values with '0'\n",
    "\n",
    "df[\"Minutes\"] = df[\"Minutes\"].fillna(0).astype(int)\n",
    "df[\"Seasons\"] = df[\"Seasons\"].fillna(0).astype(int)"
   ]
  },
  {
   "cell_type": "code",
   "execution_count": 26,
   "id": "c1f86335-ade5-4b75-aef6-62018dc14cdd",
   "metadata": {},
   "outputs": [
    {
     "data": {
      "text/html": [
       "<div>\n",
       "<style scoped>\n",
       "    .dataframe tbody tr th:only-of-type {\n",
       "        vertical-align: middle;\n",
       "    }\n",
       "\n",
       "    .dataframe tbody tr th {\n",
       "        vertical-align: top;\n",
       "    }\n",
       "\n",
       "    .dataframe thead th {\n",
       "        text-align: right;\n",
       "    }\n",
       "</style>\n",
       "<table border=\"1\" class=\"dataframe\">\n",
       "  <thead>\n",
       "    <tr style=\"text-align: right;\">\n",
       "      <th></th>\n",
       "      <th>type</th>\n",
       "      <th>title</th>\n",
       "      <th>country</th>\n",
       "      <th>date_added</th>\n",
       "      <th>release_year</th>\n",
       "      <th>rating</th>\n",
       "      <th>duration</th>\n",
       "      <th>Genre</th>\n",
       "      <th>Minutes</th>\n",
       "      <th>Seasons</th>\n",
       "    </tr>\n",
       "  </thead>\n",
       "  <tbody>\n",
       "    <tr>\n",
       "      <th>0</th>\n",
       "      <td>Movie</td>\n",
       "      <td>Dick Johnson Is Dead</td>\n",
       "      <td>United States</td>\n",
       "      <td>September 25, 2021</td>\n",
       "      <td>2020</td>\n",
       "      <td>PG-13</td>\n",
       "      <td>90 min</td>\n",
       "      <td>Documentaries</td>\n",
       "      <td>90</td>\n",
       "      <td>0</td>\n",
       "    </tr>\n",
       "    <tr>\n",
       "      <th>1</th>\n",
       "      <td>TV Show</td>\n",
       "      <td>Blood &amp; Water</td>\n",
       "      <td>South Africa</td>\n",
       "      <td>September 24, 2021</td>\n",
       "      <td>2021</td>\n",
       "      <td>TV-MA</td>\n",
       "      <td>2 Seasons</td>\n",
       "      <td>International TV Shows</td>\n",
       "      <td>0</td>\n",
       "      <td>2</td>\n",
       "    </tr>\n",
       "    <tr>\n",
       "      <th>2</th>\n",
       "      <td>TV Show</td>\n",
       "      <td>Blood &amp; Water</td>\n",
       "      <td>South Africa</td>\n",
       "      <td>September 24, 2021</td>\n",
       "      <td>2021</td>\n",
       "      <td>TV-MA</td>\n",
       "      <td>2 Seasons</td>\n",
       "      <td>TV Dramas</td>\n",
       "      <td>0</td>\n",
       "      <td>2</td>\n",
       "    </tr>\n",
       "    <tr>\n",
       "      <th>3</th>\n",
       "      <td>TV Show</td>\n",
       "      <td>Blood &amp; Water</td>\n",
       "      <td>South Africa</td>\n",
       "      <td>September 24, 2021</td>\n",
       "      <td>2021</td>\n",
       "      <td>TV-MA</td>\n",
       "      <td>2 Seasons</td>\n",
       "      <td>TV Mysteries</td>\n",
       "      <td>0</td>\n",
       "      <td>2</td>\n",
       "    </tr>\n",
       "    <tr>\n",
       "      <th>4</th>\n",
       "      <td>TV Show</td>\n",
       "      <td>Ganglands</td>\n",
       "      <td>unknown</td>\n",
       "      <td>September 24, 2021</td>\n",
       "      <td>2021</td>\n",
       "      <td>TV-MA</td>\n",
       "      <td>1 Season</td>\n",
       "      <td>Crime TV Shows</td>\n",
       "      <td>0</td>\n",
       "      <td>1</td>\n",
       "    </tr>\n",
       "  </tbody>\n",
       "</table>\n",
       "</div>"
      ],
      "text/plain": [
       "      type                 title        country          date_added  \\\n",
       "0    Movie  Dick Johnson Is Dead  United States  September 25, 2021   \n",
       "1  TV Show         Blood & Water   South Africa  September 24, 2021   \n",
       "2  TV Show         Blood & Water   South Africa  September 24, 2021   \n",
       "3  TV Show         Blood & Water   South Africa  September 24, 2021   \n",
       "4  TV Show             Ganglands        unknown  September 24, 2021   \n",
       "\n",
       "   release_year rating   duration                   Genre  Minutes  Seasons  \n",
       "0          2020  PG-13     90 min           Documentaries       90        0  \n",
       "1          2021  TV-MA  2 Seasons  International TV Shows        0        2  \n",
       "2          2021  TV-MA  2 Seasons               TV Dramas        0        2  \n",
       "3          2021  TV-MA  2 Seasons            TV Mysteries        0        2  \n",
       "4          2021  TV-MA   1 Season          Crime TV Shows        0        1  "
      ]
     },
     "execution_count": 26,
     "metadata": {},
     "output_type": "execute_result"
    }
   ],
   "source": [
    "# Checking data\n",
    "\n",
    "df.head(5)"
   ]
  },
  {
   "cell_type": "code",
   "execution_count": 27,
   "id": "7acba695-3b27-4a80-8612-a00117011292",
   "metadata": {},
   "outputs": [
    {
     "name": "stdout",
     "output_type": "stream",
     "text": [
      "<class 'pandas.core.frame.DataFrame'>\n",
      "Index: 23728 entries, 0 to 23753\n",
      "Data columns (total 10 columns):\n",
      " #   Column        Non-Null Count  Dtype \n",
      "---  ------        --------------  ----- \n",
      " 0   type          23728 non-null  object\n",
      " 1   title         23728 non-null  object\n",
      " 2   country       23728 non-null  object\n",
      " 3   date_added    23728 non-null  object\n",
      " 4   release_year  23728 non-null  int64 \n",
      " 5   rating        23728 non-null  object\n",
      " 6   duration      23728 non-null  object\n",
      " 7   Genre         23728 non-null  object\n",
      " 8   Minutes       23728 non-null  int64 \n",
      " 9   Seasons       23728 non-null  int64 \n",
      "dtypes: int64(3), object(7)\n",
      "memory usage: 2.0+ MB\n"
     ]
    }
   ],
   "source": [
    "df.info()"
   ]
  },
  {
   "cell_type": "code",
   "execution_count": 28,
   "id": "12f6e614-9100-4c50-902f-0fd26fe151e5",
   "metadata": {},
   "outputs": [
    {
     "data": {
      "text/html": [
       "<div>\n",
       "<style scoped>\n",
       "    .dataframe tbody tr th:only-of-type {\n",
       "        vertical-align: middle;\n",
       "    }\n",
       "\n",
       "    .dataframe tbody tr th {\n",
       "        vertical-align: top;\n",
       "    }\n",
       "\n",
       "    .dataframe thead th {\n",
       "        text-align: right;\n",
       "    }\n",
       "</style>\n",
       "<table border=\"1\" class=\"dataframe\">\n",
       "  <thead>\n",
       "    <tr style=\"text-align: right;\">\n",
       "      <th></th>\n",
       "      <th>type</th>\n",
       "      <th>title</th>\n",
       "      <th>country</th>\n",
       "      <th>date_added</th>\n",
       "      <th>release_year</th>\n",
       "      <th>rating</th>\n",
       "      <th>duration</th>\n",
       "      <th>Genre</th>\n",
       "      <th>Minutes</th>\n",
       "      <th>Seasons</th>\n",
       "      <th>Uploaded_Year</th>\n",
       "      <th>Uploaded_Month</th>\n",
       "      <th>Uploaded_Date</th>\n",
       "    </tr>\n",
       "  </thead>\n",
       "  <tbody>\n",
       "    <tr>\n",
       "      <th>0</th>\n",
       "      <td>Movie</td>\n",
       "      <td>Dick Johnson Is Dead</td>\n",
       "      <td>United States</td>\n",
       "      <td>September 25, 2021</td>\n",
       "      <td>2020</td>\n",
       "      <td>PG-13</td>\n",
       "      <td>90 min</td>\n",
       "      <td>Documentaries</td>\n",
       "      <td>90</td>\n",
       "      <td>0</td>\n",
       "      <td>2021</td>\n",
       "      <td>9</td>\n",
       "      <td>25</td>\n",
       "    </tr>\n",
       "    <tr>\n",
       "      <th>1</th>\n",
       "      <td>TV Show</td>\n",
       "      <td>Blood &amp; Water</td>\n",
       "      <td>South Africa</td>\n",
       "      <td>September 24, 2021</td>\n",
       "      <td>2021</td>\n",
       "      <td>TV-MA</td>\n",
       "      <td>2 Seasons</td>\n",
       "      <td>International TV Shows</td>\n",
       "      <td>0</td>\n",
       "      <td>2</td>\n",
       "      <td>2021</td>\n",
       "      <td>9</td>\n",
       "      <td>24</td>\n",
       "    </tr>\n",
       "    <tr>\n",
       "      <th>2</th>\n",
       "      <td>TV Show</td>\n",
       "      <td>Blood &amp; Water</td>\n",
       "      <td>South Africa</td>\n",
       "      <td>September 24, 2021</td>\n",
       "      <td>2021</td>\n",
       "      <td>TV-MA</td>\n",
       "      <td>2 Seasons</td>\n",
       "      <td>TV Dramas</td>\n",
       "      <td>0</td>\n",
       "      <td>2</td>\n",
       "      <td>2021</td>\n",
       "      <td>9</td>\n",
       "      <td>24</td>\n",
       "    </tr>\n",
       "  </tbody>\n",
       "</table>\n",
       "</div>"
      ],
      "text/plain": [
       "      type                 title        country          date_added  \\\n",
       "0    Movie  Dick Johnson Is Dead  United States  September 25, 2021   \n",
       "1  TV Show         Blood & Water   South Africa  September 24, 2021   \n",
       "2  TV Show         Blood & Water   South Africa  September 24, 2021   \n",
       "\n",
       "   release_year rating   duration                   Genre  Minutes  Seasons  \\\n",
       "0          2020  PG-13     90 min           Documentaries       90        0   \n",
       "1          2021  TV-MA  2 Seasons  International TV Shows        0        2   \n",
       "2          2021  TV-MA  2 Seasons               TV Dramas        0        2   \n",
       "\n",
       "   Uploaded_Year  Uploaded_Month  Uploaded_Date  \n",
       "0           2021               9             25  \n",
       "1           2021               9             24  \n",
       "2           2021               9             24  "
      ]
     },
     "execution_count": 28,
     "metadata": {},
     "output_type": "execute_result"
    }
   ],
   "source": [
    "# Separate the Year from date_added\n",
    "df[\"Uploaded_Year\"] = pd.to_datetime(df['date_added'], errors='coerce').dt.year\n",
    "mean_year = df[\"Uploaded_Year\"].mean()\n",
    "df[\"Uploaded_Year\"] = df[\"Uploaded_Year\"].fillna(mean_year).astype(int)\n",
    "\n",
    "# Separate the Month from date_added\n",
    "df[\"Uploaded_Month\"] = pd.to_datetime(df['date_added'], errors='coerce').dt.month\n",
    "mean_month = df[\"Uploaded_Month\"].mean()\n",
    "df[\"Uploaded_Month\"] = df[\"Uploaded_Month\"].fillna(mean_month).astype(int)\n",
    "\n",
    "# Separate the Date from date_added\n",
    "df[\"Uploaded_Date\"] = pd.to_datetime(df['date_added'], errors='coerce').dt.day\n",
    "mean_date = df[\"Uploaded_Date\"].mean()\n",
    "df[\"Uploaded_Date\"] = df[\"Uploaded_Date\"].fillna(mean_date).astype(int)\n",
    "\n",
    "df.head(3)"
   ]
  },
  {
   "cell_type": "code",
   "execution_count": 29,
   "id": "95ec7d44-33dd-43fe-8072-1f934c7bf0eb",
   "metadata": {},
   "outputs": [],
   "source": [
    "# Dropping column\n",
    "\n",
    "df.drop(columns=\"date_added\", axis=1, inplace=True)"
   ]
  },
  {
   "cell_type": "code",
   "execution_count": 30,
   "id": "f058531e-46e9-4324-b4b6-ecc5bc417d7b",
   "metadata": {},
   "outputs": [
    {
     "data": {
      "text/html": [
       "<div>\n",
       "<style scoped>\n",
       "    .dataframe tbody tr th:only-of-type {\n",
       "        vertical-align: middle;\n",
       "    }\n",
       "\n",
       "    .dataframe tbody tr th {\n",
       "        vertical-align: top;\n",
       "    }\n",
       "\n",
       "    .dataframe thead th {\n",
       "        text-align: right;\n",
       "    }\n",
       "</style>\n",
       "<table border=\"1\" class=\"dataframe\">\n",
       "  <thead>\n",
       "    <tr style=\"text-align: right;\">\n",
       "      <th></th>\n",
       "      <th>type</th>\n",
       "      <th>title</th>\n",
       "      <th>country</th>\n",
       "      <th>release_year</th>\n",
       "      <th>rating</th>\n",
       "      <th>duration</th>\n",
       "      <th>Genre</th>\n",
       "      <th>Minutes</th>\n",
       "      <th>Seasons</th>\n",
       "      <th>Uploaded_Year</th>\n",
       "      <th>Uploaded_Month</th>\n",
       "      <th>Uploaded_Date</th>\n",
       "    </tr>\n",
       "  </thead>\n",
       "  <tbody>\n",
       "    <tr>\n",
       "      <th>0</th>\n",
       "      <td>Movie</td>\n",
       "      <td>Dick Johnson Is Dead</td>\n",
       "      <td>United States</td>\n",
       "      <td>2020</td>\n",
       "      <td>PG-13</td>\n",
       "      <td>90 min</td>\n",
       "      <td>Documentaries</td>\n",
       "      <td>90</td>\n",
       "      <td>0</td>\n",
       "      <td>2021</td>\n",
       "      <td>9</td>\n",
       "      <td>25</td>\n",
       "    </tr>\n",
       "    <tr>\n",
       "      <th>1</th>\n",
       "      <td>TV Show</td>\n",
       "      <td>Blood &amp; Water</td>\n",
       "      <td>South Africa</td>\n",
       "      <td>2021</td>\n",
       "      <td>TV-MA</td>\n",
       "      <td>2 Seasons</td>\n",
       "      <td>International TV Shows</td>\n",
       "      <td>0</td>\n",
       "      <td>2</td>\n",
       "      <td>2021</td>\n",
       "      <td>9</td>\n",
       "      <td>24</td>\n",
       "    </tr>\n",
       "    <tr>\n",
       "      <th>2</th>\n",
       "      <td>TV Show</td>\n",
       "      <td>Blood &amp; Water</td>\n",
       "      <td>South Africa</td>\n",
       "      <td>2021</td>\n",
       "      <td>TV-MA</td>\n",
       "      <td>2 Seasons</td>\n",
       "      <td>TV Dramas</td>\n",
       "      <td>0</td>\n",
       "      <td>2</td>\n",
       "      <td>2021</td>\n",
       "      <td>9</td>\n",
       "      <td>24</td>\n",
       "    </tr>\n",
       "    <tr>\n",
       "      <th>3</th>\n",
       "      <td>TV Show</td>\n",
       "      <td>Blood &amp; Water</td>\n",
       "      <td>South Africa</td>\n",
       "      <td>2021</td>\n",
       "      <td>TV-MA</td>\n",
       "      <td>2 Seasons</td>\n",
       "      <td>TV Mysteries</td>\n",
       "      <td>0</td>\n",
       "      <td>2</td>\n",
       "      <td>2021</td>\n",
       "      <td>9</td>\n",
       "      <td>24</td>\n",
       "    </tr>\n",
       "    <tr>\n",
       "      <th>4</th>\n",
       "      <td>TV Show</td>\n",
       "      <td>Ganglands</td>\n",
       "      <td>unknown</td>\n",
       "      <td>2021</td>\n",
       "      <td>TV-MA</td>\n",
       "      <td>1 Season</td>\n",
       "      <td>Crime TV Shows</td>\n",
       "      <td>0</td>\n",
       "      <td>1</td>\n",
       "      <td>2021</td>\n",
       "      <td>9</td>\n",
       "      <td>24</td>\n",
       "    </tr>\n",
       "  </tbody>\n",
       "</table>\n",
       "</div>"
      ],
      "text/plain": [
       "      type                 title        country  release_year rating  \\\n",
       "0    Movie  Dick Johnson Is Dead  United States          2020  PG-13   \n",
       "1  TV Show         Blood & Water   South Africa          2021  TV-MA   \n",
       "2  TV Show         Blood & Water   South Africa          2021  TV-MA   \n",
       "3  TV Show         Blood & Water   South Africa          2021  TV-MA   \n",
       "4  TV Show             Ganglands        unknown          2021  TV-MA   \n",
       "\n",
       "    duration                   Genre  Minutes  Seasons  Uploaded_Year  \\\n",
       "0     90 min           Documentaries       90        0           2021   \n",
       "1  2 Seasons  International TV Shows        0        2           2021   \n",
       "2  2 Seasons               TV Dramas        0        2           2021   \n",
       "3  2 Seasons            TV Mysteries        0        2           2021   \n",
       "4   1 Season          Crime TV Shows        0        1           2021   \n",
       "\n",
       "   Uploaded_Month  Uploaded_Date  \n",
       "0               9             25  \n",
       "1               9             24  \n",
       "2               9             24  \n",
       "3               9             24  \n",
       "4               9             24  "
      ]
     },
     "execution_count": 30,
     "metadata": {},
     "output_type": "execute_result"
    }
   ],
   "source": [
    "df.head()"
   ]
  },
  {
   "cell_type": "code",
   "execution_count": 31,
   "id": "ca03012f-f48f-4dd9-8220-f750522cf401",
   "metadata": {},
   "outputs": [
    {
     "data": {
      "text/plain": [
       "type              0\n",
       "title             0\n",
       "country           0\n",
       "release_year      0\n",
       "rating            0\n",
       "duration          0\n",
       "Genre             0\n",
       "Minutes           0\n",
       "Seasons           0\n",
       "Uploaded_Year     0\n",
       "Uploaded_Month    0\n",
       "Uploaded_Date     0\n",
       "dtype: int64"
      ]
     },
     "execution_count": 31,
     "metadata": {},
     "output_type": "execute_result"
    }
   ],
   "source": [
    "# Checkingh null values\n",
    "# No null values found\n",
    "\n",
    "df.isnull().sum()"
   ]
  },
  {
   "cell_type": "code",
   "execution_count": 32,
   "id": "b5f8d41d-03bc-490e-9105-d443e73981b4",
   "metadata": {},
   "outputs": [
    {
     "data": {
      "text/plain": [
       "(23728, 12)"
      ]
     },
     "execution_count": 32,
     "metadata": {},
     "output_type": "execute_result"
    }
   ],
   "source": [
    "# Finding shape of data\n",
    "\n",
    "df.shape"
   ]
  },
  {
   "cell_type": "code",
   "execution_count": 33,
   "id": "16abf927-c775-4ecc-9ba8-30857039ed8c",
   "metadata": {},
   "outputs": [],
   "source": [
    "# Drop this index beacuse 'this data is to old (only one value with the year = 1925)' \n",
    "\n",
    "df = df.drop(index = 11314)"
   ]
  },
  {
   "cell_type": "code",
   "execution_count": 34,
   "id": "7249a1d2-03f7-44ee-90dc-9bb0d5f89aef",
   "metadata": {},
   "outputs": [],
   "source": [
    "# Converting the data into new file\n",
    "\n",
    "# df.to_csv(\"Output.csv\", index=False)"
   ]
  },
  {
   "cell_type": "markdown",
   "id": "57a8b349-bd29-4084-9f4d-e67494e2c802",
   "metadata": {},
   "source": [
    "# 📌 Netflix Dataset Analysis Questions\n",
    "\n",
    "---\n",
    "\n",
    "\n",
    "## 📊 Trends\n",
    "### How many `movies` and `TV shows` are there in the dataset? "
   ]
  },
  {
   "cell_type": "code",
   "execution_count": 35,
   "id": "99cd50f2-5578-4a0c-b983-0ddb3ebd33f1",
   "metadata": {},
   "outputs": [
    {
     "name": "stdout",
     "output_type": "stream",
     "text": [
      "Total numbers of 'Movies' are : 16871.\n",
      "\n",
      "Total numbers of 'TV Shows' are : 6856.\n"
     ]
    }
   ],
   "source": [
    "total_movies = df['type'].value_counts()[0]\n",
    "total_tv_shows = df['type'].value_counts()[1]\n",
    "\n",
    "print(f\"Total numbers of 'Movies' are : {total_movies}.\")\n",
    "print(f\"\\nTotal numbers of 'TV Shows' are : {total_tv_shows}.\")"
   ]
  },
  {
   "cell_type": "markdown",
   "id": "70965c63-15a0-4aab-bb44-31224d5eba04",
   "metadata": {},
   "source": [
    "### How has Netflix’s `content addition trend` changed over the years?"
   ]
  },
  {
   "cell_type": "code",
   "execution_count": 36,
   "id": "6be00b48-a942-47da-96ed-a054862d45df",
   "metadata": {},
   "outputs": [],
   "source": [
    "movies_count = df[(df['type'] == \"Movie\")]['release_year'].value_counts().sort_index()\n",
    "shows_count = df[(df['type'] == \"TV Show\")]['release_year'].value_counts().sort_index()"
   ]
  },
  {
   "cell_type": "code",
   "execution_count": 37,
   "id": "d010eb3f-7e82-4589-bf3e-65c5aae02074",
   "metadata": {},
   "outputs": [
    {
     "data": {
      "image/png": "[encoded data removed]",
      "text/plain": [
       "<Figure size 1500x600 with 1 Axes>"
      ]
     },
     "metadata": {},
     "output_type": "display_data"
    }
   ],
   "source": [
    "plt.figure(figsize=(15,6))\n",
    "plt.plot(movies_count.index, movies_count.values, marker='.', label=\"Movies\", linewidth=1.5)\n",
    "plt.plot(shows_count.index, shows_count.values, marker='.', label=\"TV Shows\", linewidth=1.5)\n",
    "\n",
    "# Customization\n",
    "plt.title(\"Content Addition Trend Changed Over the Years\", fontsize=12)\n",
    "plt.xlabel(\"Release Year\", fontsize=10)\n",
    "plt.ylabel(\"Count\", fontsize=10)\n",
    "plt.legend()\n",
    "plt.yticks(np.arange(0,2500,250))\n",
    "plt.grid(True, linestyle=\"--\", alpha=0.5)\n",
    "plt.show()"
   ]
  },
  {
   "cell_type": "markdown",
   "id": "8dab425b-399e-4efb-8204-7bf2cdc92083",
   "metadata": {},
   "source": [
    "### Are Netflix focusing more on `TV shows` or `movies` in recent years? "
   ]
  },
  {
   "cell_type": "code",
   "execution_count": 38,
   "id": "73bf42b9-6883-43d8-8ac8-313f6e0a01fe",
   "metadata": {},
   "outputs": [
    {
     "name": "stdout",
     "output_type": "stream",
     "text": [
      "Total number of movies released in recent years: \n",
      "3444 movies\n",
      "\n",
      "Total number of TV Shows released in recent years: \n",
      "2938 TV_Shows\n",
      "\n",
      "Netflix focuses more on 'Movies' rather than 'TV Shows'.\n"
     ]
    }
   ],
   "source": [
    "movies = df[(df['type'] == \"Movie\") & (df[\"release_year\"] >= 2019)]['type'].value_counts()[0]\n",
    "tv_shows = df[(df['type'] == \"TV Show\") & (df[\"release_year\"] >= 2019)]['type'].value_counts()[0]\n",
    "\n",
    "print(f\"Total number of movies released in recent years: \\n{movies} movies\")\n",
    "print(f\"\\nTotal number of TV Shows released in recent years: \\n{tv_shows} TV_Shows\")\n",
    "print(f\"\\nNetflix focuses more on 'Movies' rather than 'TV Shows'.\")"
   ]
  },
  {
   "cell_type": "code",
   "execution_count": 39,
   "id": "eecd6a67-7588-4a29-81e7-123f0741189d",
   "metadata": {},
   "outputs": [
    {
     "data": {
      "image/png": "[encoded data removed]",
      "text/plain": [
       "<Figure size 350x500 with 1 Axes>"
      ]
     },
     "metadata": {},
     "output_type": "display_data"
    }
   ],
   "source": [
    "movie = df[(df['type'] == \"Movie\") & (df[\"release_year\"] >= 2019)]['type']\n",
    "tv = df[(df['type'] == \"TV Show\") & (df[\"release_year\"] >= 2019)]['type']\n",
    "\n",
    "plt.figure(figsize=(3.5,5))\n",
    "sns.countplot(df, x=movie, width=0.25)\n",
    "sns.countplot(df, x=tv, width=0.25)\n",
    "plt.xlabel(\"Category →\", fontsize=9)\n",
    "plt.ylabel(\"Total →\", fontsize=9)\n",
    "plt.title(\"Contents released in last recent years\", fontsize=9)\n",
    "plt.yticks(np.arange(0,3601,400))\n",
    "plt.legend([\"Movies\",\"TV Show\"])\n",
    "plt.show()"
   ]
  },
  {
   "cell_type": "markdown",
   "id": "c8e27da6-cd68-425a-80eb-c8eec524fdcc",
   "metadata": {},
   "source": [
    "### How many titles were `released each year`? "
   ]
  },
  {
   "cell_type": "code",
   "execution_count": 40,
   "id": "e3bbf40f-ce89-462b-9199-3e0e5b0e076c",
   "metadata": {},
   "outputs": [],
   "source": [
    "value = df['release_year'].value_counts().sort_index()"
   ]
  },
  {
   "cell_type": "code",
   "execution_count": 41,
   "id": "3e388598-ff56-4941-ac39-044ea1769da2",
   "metadata": {},
   "outputs": [
    {
     "data": {
      "image/png": "[encoded data removed]",
      "text/plain": [
       "<Figure size 1500x600 with 1 Axes>"
      ]
     },
     "metadata": {},
     "output_type": "display_data"
    }
   ],
   "source": [
    "plt.figure(figsize=(15,6))\n",
    "plt.plot(value.index, value.values, marker=\".\", c=\"blue\")\n",
    "plt.title(\"Titles Released Each Year\")\n",
    "plt.xlabel(\"years →\")\n",
    "plt.ylabel(\"Number of titles released →\")\n",
    "plt.show()"
   ]
  },
  {
   "cell_type": "markdown",
   "id": "d9e4225a-4d42-4349-9429-092738100e03",
   "metadata": {},
   "source": [
    "### Which years had the most `diverse content` in terms of genres?"
   ]
  },
  {
   "cell_type": "code",
   "execution_count": 42,
   "id": "87c3122a-70e9-4671-8b21-8f679630732e",
   "metadata": {},
   "outputs": [
    {
     "name": "stdout",
     "output_type": "stream",
     "text": [
      "Genre : International Movies \n",
      "Year : 2018 \n",
      "Total : 443\n"
     ]
    }
   ],
   "source": [
    "popular_content = df.groupby('Genre')['release_year'].value_counts().sort_values(ascending=False).head(1)\n",
    "genre = popular_content.index[0][0]\n",
    "genre_year = popular_content.index[0][1]\n",
    "genre_count = popular_content[0]\n",
    "print(f\"Genre : {genre} \\nYear : {genre_year} \\nTotal : {genre_count}\")"
   ]
  },
  {
   "cell_type": "markdown",
   "id": "a898505e-79df-462a-8f8f-fc1184e898cb",
   "metadata": {},
   "source": [
    "## 🌍 Countries\n",
    "\n",
    "### Which `country` has the highest number of Netflix titles?"
   ]
  },
  {
   "cell_type": "code",
   "execution_count": 43,
   "id": "b71ed67f-6e16-4cc8-8ffa-0b1eb2c9863b",
   "metadata": {},
   "outputs": [
    {
     "name": "stdout",
     "output_type": "stream",
     "text": [
      "'United States' has the highest number of Netflix titles\n",
      " Total titles are : '6767'\n"
     ]
    }
   ],
   "source": [
    "highest = df['country'].value_counts()\n",
    "most_titles_country = highest.index[0]\n",
    "total_titles = highest[0]\n",
    "print(f\"'{most_titles_country}' has the highest number of Netflix titles\\n Total titles are : '{total_titles}'\")"
   ]
  },
  {
   "cell_type": "markdown",
   "id": "60289f26-b6dd-4e4b-bac0-0891e52869d3",
   "metadata": {},
   "source": [
    "### Which `countries` produce the most Netflix original content?"
   ]
  },
  {
   "cell_type": "code",
   "execution_count": 44,
   "id": "ac8e7dc9-06fc-4b35-b639-3a54ced6c688",
   "metadata": {},
   "outputs": [
    {
     "name": "stdout",
     "output_type": "stream",
     "text": [
      "Countries which produce most Netflix content : \n",
      "\n",
      "country\n",
      "United States     6767\n",
      "India             2804\n",
      "United Kingdom    1776\n",
      "France             916\n",
      "Canada             877\n",
      "Name: count, dtype: int64\n",
      "\n",
      "Total content produce by these countries are : 13140\n"
     ]
    }
   ],
   "source": [
    "most_content = df['country'].value_counts().sort_values(ascending=False)\n",
    "updated = most_content[most_content.index != \"unknown\"]\n",
    "print(f\"Countries which produce most Netflix content : \\n\\n{updated[:5]}\")\n",
    "print(f\"\\nTotal content produce by these countries are : {updated[:5].sum()}\")"
   ]
  },
  {
   "cell_type": "markdown",
   "id": "2107f7a4-83a6-4c25-ae2c-a0d8fc68dfe3",
   "metadata": {},
   "source": [
    "### What type of `content (genre)` is most popular in `India/US` compared to other countries?"
   ]
  },
  {
   "cell_type": "code",
   "execution_count": 45,
   "id": "fb431c59-7644-4a18-843c-b1a25259afd5",
   "metadata": {},
   "outputs": [],
   "source": [
    "us = df[df['country'] == 'United States'][['Genre','country']].value_counts().reset_index().head(10)\n",
    "india = df[df['country'] == 'India'][['Genre','country']].value_counts().reset_index().head(10)\n",
    "other = df[(df['country'] != 'India') & (df['country'] != 'United States') & (df['country'] != 'unknown')][['Genre','country']].value_counts().reset_index().head(10)"
   ]
  },
  {
   "cell_type": "code",
   "execution_count": 46,
   "id": "8774ce59-705e-44c3-85d9-a27781fdbbf0",
   "metadata": {},
   "outputs": [],
   "source": [
    "combined = pd.concat([us,india,other], ignore_index= True)\n",
    "modified = combined.copy()\n",
    "modified['country'] = modified['country'].apply(lambda x: x if x in ['United States','India'] else 'Other')"
   ]
  },
  {
   "cell_type": "code",
   "execution_count": 47,
   "id": "86f1e317-8d85-413d-a54b-0bb3b87416ea",
   "metadata": {},
   "outputs": [
    {
     "data": {
      "image/png": "[encoded data removed]",
      "text/plain": [
       "<Figure size 1500x700 with 1 Axes>"
      ]
     },
     "metadata": {},
     "output_type": "display_data"
    }
   ],
   "source": [
    "plt.figure(figsize=(15,7))\n",
    "sns.barplot(data=modified, x='Genre', y='count', hue='country')\n",
    "\n",
    "# Customization\n",
    "plt.title(\"Top 10 Popular Genres by Country (India, US, Other)\", fontsize=16)\n",
    "plt.xticks(rotation=45, ha=\"right\")\n",
    "plt.yticks(np.arange(0,1100, 200))\n",
    "plt.xlabel(\"Genre →\")\n",
    "plt.ylabel(\"Number of Titles →\")\n",
    "plt.legend()\n",
    "plt.tight_layout()\n",
    "plt.show()"
   ]
  },
  {
   "cell_type": "markdown",
   "id": "dccc4a7c-c023-4c7f-8f59-7ad4c6a1a667",
   "metadata": {},
   "source": [
    "## 🎭 Genres\n",
    "### Which `Genre` appear most frequently? "
   ]
  },
  {
   "cell_type": "code",
   "execution_count": 48,
   "id": "b9a368fe-7de0-4cf2-8cb6-8973635251d4",
   "metadata": {},
   "outputs": [
    {
     "name": "stdout",
     "output_type": "stream",
     "text": [
      "Most frequently Genre are : \n",
      "\n",
      "Genre\n",
      "International Movies      3509\n",
      "Dramas                    3198\n",
      "Comedies                  1981\n",
      "International TV Shows    1463\n",
      "Action & Adventure        1182\n",
      "Documentaries             1116\n",
      "Independent Movies        1040\n",
      "Name: count, dtype: int64\n"
     ]
    }
   ],
   "source": [
    "popular_genre = df['Genre'].value_counts().sort_values(ascending=False).head(7)\n",
    "print(f\"Most frequently Genre are : \\n\\n{popular_genre}\")"
   ]
  },
  {
   "cell_type": "markdown",
   "id": "92c4961d-a36c-417b-96d4-92395e70d107",
   "metadata": {},
   "source": [
    "### How do movie `durations` vary across `genres` (e.g., documentaries vs action movies)?"
   ]
  },
  {
   "cell_type": "code",
   "execution_count": 49,
   "id": "9781877b-f31f-48ce-ba8c-945adf07b6b9",
   "metadata": {},
   "outputs": [
    {
     "data": {
      "text/html": [
       "<div>\n",
       "<style scoped>\n",
       "    .dataframe tbody tr th:only-of-type {\n",
       "        vertical-align: middle;\n",
       "    }\n",
       "\n",
       "    .dataframe tbody tr th {\n",
       "        vertical-align: top;\n",
       "    }\n",
       "\n",
       "    .dataframe thead th {\n",
       "        text-align: right;\n",
       "    }\n",
       "</style>\n",
       "<table border=\"1\" class=\"dataframe\">\n",
       "  <thead>\n",
       "    <tr style=\"text-align: right;\">\n",
       "      <th></th>\n",
       "      <th>Genre</th>\n",
       "      <th>mean</th>\n",
       "      <th>median</th>\n",
       "      <th>min</th>\n",
       "      <th>max</th>\n",
       "      <th>count</th>\n",
       "    </tr>\n",
       "  </thead>\n",
       "  <tbody>\n",
       "    <tr>\n",
       "      <th>0</th>\n",
       "      <td>International Movies</td>\n",
       "      <td>108.91</td>\n",
       "      <td>106</td>\n",
       "      <td>5</td>\n",
       "      <td>312</td>\n",
       "      <td>3509</td>\n",
       "    </tr>\n",
       "    <tr>\n",
       "      <th>1</th>\n",
       "      <td>Dramas</td>\n",
       "      <td>112.57</td>\n",
       "      <td>108</td>\n",
       "      <td>8</td>\n",
       "      <td>312</td>\n",
       "      <td>3198</td>\n",
       "    </tr>\n",
       "    <tr>\n",
       "      <th>2</th>\n",
       "      <td>Comedies</td>\n",
       "      <td>103.00</td>\n",
       "      <td>100</td>\n",
       "      <td>13</td>\n",
       "      <td>253</td>\n",
       "      <td>1981</td>\n",
       "    </tr>\n",
       "    <tr>\n",
       "      <th>3</th>\n",
       "      <td>Action &amp; Adventure</td>\n",
       "      <td>112.43</td>\n",
       "      <td>107</td>\n",
       "      <td>5</td>\n",
       "      <td>214</td>\n",
       "      <td>1182</td>\n",
       "    </tr>\n",
       "    <tr>\n",
       "      <th>4</th>\n",
       "      <td>Documentaries</td>\n",
       "      <td>83.37</td>\n",
       "      <td>87</td>\n",
       "      <td>10</td>\n",
       "      <td>273</td>\n",
       "      <td>1116</td>\n",
       "    </tr>\n",
       "    <tr>\n",
       "      <th>5</th>\n",
       "      <td>Independent Movies</td>\n",
       "      <td>101.67</td>\n",
       "      <td>99</td>\n",
       "      <td>13</td>\n",
       "      <td>189</td>\n",
       "      <td>1040</td>\n",
       "    </tr>\n",
       "    <tr>\n",
       "      <th>6</th>\n",
       "      <td>Children &amp; Family Movies</td>\n",
       "      <td>82.46</td>\n",
       "      <td>88</td>\n",
       "      <td>3</td>\n",
       "      <td>152</td>\n",
       "      <td>845</td>\n",
       "    </tr>\n",
       "    <tr>\n",
       "      <th>7</th>\n",
       "      <td>Thrillers</td>\n",
       "      <td>107.23</td>\n",
       "      <td>103</td>\n",
       "      <td>28</td>\n",
       "      <td>171</td>\n",
       "      <td>806</td>\n",
       "    </tr>\n",
       "    <tr>\n",
       "      <th>8</th>\n",
       "      <td>Romantic Movies</td>\n",
       "      <td>110.81</td>\n",
       "      <td>107</td>\n",
       "      <td>46</td>\n",
       "      <td>233</td>\n",
       "      <td>722</td>\n",
       "    </tr>\n",
       "    <tr>\n",
       "      <th>9</th>\n",
       "      <td>Horror Movies</td>\n",
       "      <td>98.09</td>\n",
       "      <td>95</td>\n",
       "      <td>29</td>\n",
       "      <td>171</td>\n",
       "      <td>458</td>\n",
       "    </tr>\n",
       "  </tbody>\n",
       "</table>\n",
       "</div>"
      ],
      "text/plain": [
       "                      Genre    mean  median  min  max  count\n",
       "0      International Movies  108.91     106    5  312   3509\n",
       "1                    Dramas  112.57     108    8  312   3198\n",
       "2                  Comedies  103.00     100   13  253   1981\n",
       "3        Action & Adventure  112.43     107    5  214   1182\n",
       "4             Documentaries   83.37      87   10  273   1116\n",
       "5        Independent Movies  101.67      99   13  189   1040\n",
       "6  Children & Family Movies   82.46      88    3  152    845\n",
       "7                 Thrillers  107.23     103   28  171    806\n",
       "8           Romantic Movies  110.81     107   46  233    722\n",
       "9             Horror Movies   98.09      95   29  171    458"
      ]
     },
     "execution_count": 49,
     "metadata": {},
     "output_type": "execute_result"
    }
   ],
   "source": [
    "# Calculating the \"mean\", \"median\", \"min\", \"max\", \"count\" of the data\n",
    "\n",
    "durations = df[df['type'] == \"Movie\"].groupby('Genre')['Minutes'].agg([\"mean\", \"median\", \"min\", \"max\", \"count\"]).sort_values(ascending=False, by=\"count\").reset_index().head(10)\n",
    "durations['mean'] = durations['mean'].round(2)\n",
    "durations['median'] = durations['median'].astype(int)\n",
    "durations"
   ]
  },
  {
   "cell_type": "markdown",
   "id": "530f5d96-90be-4aff-9839-221137f81690",
   "metadata": {},
   "source": [
    "### Which `genres` are most common among `recently added content`?"
   ]
  },
  {
   "cell_type": "code",
   "execution_count": 50,
   "id": "80a6182e-aecb-4086-a622-81c2e0cabac9",
   "metadata": {},
   "outputs": [
    {
     "name": "stdout",
     "output_type": "stream",
     "text": [
      "Most common Genres in recent year : \n",
      "\n",
      "Genre\n",
      "Dramas                      550\n",
      "International Movies        488\n",
      "Comedies                    352\n",
      "Action & Adventure          270\n",
      "International TV Shows      243\n",
      "Thrillers                   163\n",
      "Children & Family Movies    154\n",
      "TV Dramas                   149\n",
      "Romantic Movies             138\n",
      "Independent Movies          135\n",
      "Name: count, dtype: int64\n"
     ]
    }
   ],
   "source": [
    "# Checking most recent year using '.max()'\n",
    "\n",
    "recent_year = df['Uploaded_Year'].max()\n",
    "top_recent_genres = df[df['Uploaded_Year'] == recent_year]['Genre'].value_counts().head(10)\n",
    "print(f\"Most common Genres in recent year : \\n\\n{top_recent_genres}\")"
   ]
  },
  {
   "cell_type": "markdown",
   "id": "d47c3463-0a8f-49ee-be27-af30079cd2e1",
   "metadata": {},
   "source": [
    "## 🔖 Ratings\n",
    "### What is the most common `rating` (e.g., TV-MA, PG-13) for Netflix content? "
   ]
  },
  {
   "cell_type": "code",
   "execution_count": 51,
   "id": "4c8fdc26-0e48-42a7-bf95-d7b4a2be3dc4",
   "metadata": {},
   "outputs": [
    {
     "data": {
      "image/png": "[encoded data removed]",
      "text/plain": [
       "<Figure size 800x500 with 1 Axes>"
      ]
     },
     "metadata": {},
     "output_type": "display_data"
    }
   ],
   "source": [
    "common_rating = df['rating'].value_counts().sort_values(ascending=False).head(10)\n",
    "\n",
    "plt.figure(figsize=(8,5))\n",
    "sns.barplot(x=common_rating.index, y=common_rating.values, hue=common_rating.index)\n",
    "\n",
    "# Customization\n",
    "plt.title(\"Top 10 Most Common Ratings on Netflix\")\n",
    "plt.xlabel(\"Rating\")\n",
    "plt.ylabel(\"Count\")\n",
    "plt.xticks(rotation=45, ha=\"right\")\n",
    "plt.show()"
   ]
  },
  {
   "cell_type": "markdown",
   "id": "cff14089-9e3e-4925-99e0-e397c4706765",
   "metadata": {},
   "source": [
    "### Is there a difference in `rating distribution` between `movies` and `TV shows`?  "
   ]
  },
  {
   "cell_type": "code",
   "execution_count": 52,
   "id": "57a88168-ef2f-44fc-8867-9445562cf064",
   "metadata": {},
   "outputs": [
    {
     "data": {
      "image/png": "[encoded data removed]",
      "text/plain": [
       "<Figure size 640x480 with 1 Axes>"
      ]
     },
     "metadata": {},
     "output_type": "display_data"
    }
   ],
   "source": [
    "rating_of_movies = df[df['type'] == 'Movie']['rating'].value_counts().head(10)\n",
    "rating_of_tv_shows = df[df['type'] == 'TV Show']['rating'].value_counts().head(10)\n",
    "merge = pd.concat([rating_of_movies, rating_of_tv_shows])\n",
    "merged_df = merge.groupby(merge.index).sum().head(10)\n",
    "\n",
    "ax = sns.barplot(x=merged_df.index, y=merged_df.values, palette='plasma')\n",
    "\n",
    "# Showing values on top\n",
    "for container in ax.containers:\n",
    "    ax.bar_label(container, fmt='%d', label_type='edge', fontsize=9)\n",
    "\n",
    "# Customization\n",
    "plt.title(\"Difference in rating distribution between Movies and TV Shows\", fontsize=10)\n",
    "plt.xlabel(\"Rating type →\", fontsize=10)\n",
    "plt.ylabel(\"Count →\", fontsize=10)\n",
    "plt.xticks(fontsize=9)\n",
    "plt.yticks(np.arange(0,9001,1000), fontsize=9)\n",
    "plt.show()"
   ]
  },
  {
   "cell_type": "markdown",
   "id": "3abb96ef-d721-4c8c-a729-475560381281",
   "metadata": {},
   "source": [
    "## ⏱ Duration & Seasons\n",
    "### What is the average `duration` of movies?"
   ]
  },
  {
   "cell_type": "code",
   "execution_count": 53,
   "id": "d21e7189-aab2-4247-84eb-d2fcfd838d39",
   "metadata": {},
   "outputs": [
    {
     "name": "stdout",
     "output_type": "stream",
     "text": [
      "Average duration of Movies : 103.91 mins\n"
     ]
    }
   ],
   "source": [
    "avg_duration = df[df['type'] == \"Movie\"]['Minutes'].mean()\n",
    "print(f\"Average duration of Movies : {avg_duration.round(2)} mins\")"
   ]
  },
  {
   "cell_type": "markdown",
   "id": "478c11b1-7d6f-48d5-97ba-da5964452b00",
   "metadata": {},
   "source": [
    "### How many `seasons` do TV shows typically have?"
   ]
  },
  {
   "cell_type": "code",
   "execution_count": 54,
   "id": "16ce7ec9-d136-444a-be34-cb9182a1e8f8",
   "metadata": {},
   "outputs": [
    {
     "name": "stdout",
     "output_type": "stream",
     "text": [
      "Total Seasons : 6856 Seasons\n",
      "Min : 1 Season\n",
      "Mean : 1.75 Season\n",
      "Max : 17 Season\n"
     ]
    }
   ],
   "source": [
    "avg_seasons = df[df['type'] == \"TV Show\"]['Seasons'].describe()\n",
    "print(f\"Total Seasons : {avg_seasons['count'].astype(int)} Seasons\")\n",
    "print(f\"Min : {avg_seasons['min'].astype(int)} Season\")\n",
    "print(f\"Mean : {avg_seasons['mean']:.2f} Season\")\n",
    "print(f\"Max : {avg_seasons['max'].astype(int)} Season\")"
   ]
  },
  {
   "cell_type": "markdown",
   "id": "2da2b32f-818a-4e27-8cf8-7cef2fc912f4",
   "metadata": {},
   "source": [
    "\n",
    "## 🕰 Historical Content\n",
    "### Do `older movies (pre-2000)` still make up a large portion of Netflix’s library? "
   ]
  },
  {
   "cell_type": "code",
   "execution_count": 55,
   "id": "9c541397-0de4-4edf-ad5d-6ccdb74cb182",
   "metadata": {},
   "outputs": [
    {
     "name": "stdout",
     "output_type": "stream",
     "text": [
      "Number of Movies before year 2000 : 1327 Movies\n",
      "Number of Movies after year 2000 : 15544 Movies\n",
      "\n",
      "No, Older movies only covered 7.87% of the Netflix's library\n"
     ]
    }
   ],
   "source": [
    "movies_before_2000 = df[(df['type'] == \"Movie\") & (df['release_year'] < 2000)].value_counts().size\n",
    "movies_after_2000 = df[(df['type'] == \"Movie\") & (df['release_year'] >= 2000)].value_counts().size\n",
    "\n",
    "print(f\"Number of Movies before year 2000 : {movies_before_2000} Movies\")\n",
    "print(f\"Number of Movies after year 2000 : {movies_after_2000} Movies\")\n",
    "\n",
    "# Calculating percentage\n",
    "total_movies = movies_after_2000 + movies_before_2000\n",
    "percent = (movies_before_2000 / total_movies) * 100\n",
    "print(f\"\\nNo, Older movies only covered {percent:.2f}% of the Netflix's library\")"
   ]
  },
  {
   "cell_type": "code",
   "execution_count": null,
   "id": "78b5d685-0063-4be8-9bf6-9070b0b68e5d",
   "metadata": {},
   "outputs": [],
   "source": []
  }
 ],
 "metadata": {
  "kernelspec": {
   "display_name": "Python 3",
   "language": "python",
   "name": "python3"
  },
  "language_info": {
   "codemirror_mode": {
    "name": "ipython",
    "version": 3
   },
   "file_extension": ".py",
   "mimetype": "text/x-python",
   "name": "python",
   "nbconvert_exporter": "python",
   "pygments_lexer": "ipython3",
   "version": "3.13.7"
  }
 },
 "nbformat": 4,
 "nbformat_minor": 5
}
